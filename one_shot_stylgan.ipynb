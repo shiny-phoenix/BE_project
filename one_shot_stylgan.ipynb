{
 "cells": [
  {
   "cell_type": "code",
   "execution_count": 1,
   "metadata": {},
   "outputs": [
    {
     "name": "stdout",
     "output_type": "stream",
     "text": [
      "/workspace/anime-StyleGAN\n"
     ]
    }
   ],
   "source": [
    "%cd anime-StyleGAN"
   ]
  },
  {
   "cell_type": "code",
   "execution_count": 3,
   "metadata": {},
   "outputs": [
    {
     "name": "stdout",
     "output_type": "stream",
     "text": [
      "anaylize.py\t      requirements.txt\t      training_log5.txt\r\n",
      "data\t\t      restoration_log5.txt    training_log6.txt\r\n",
      "dataset1.py\t      restore2.py\t      training_log7.txt\r\n",
      "dataset.py\t      restore3_helper.py      training_log8.txt\r\n",
      "demo\t\t      restore3.py\t      training_log9.txt\r\n",
      "download.sh\t      restore4.ipynb\t      training_log.txt\r\n",
      "evaluation.py\t      restore4.py\t      train_output.log\r\n",
      "imgfolder\t      restore.py\t      train.py\r\n",
      "LICENSE\t\t      stylegan.py\t      Untitled1.ipynb\r\n",
      "lpips_cosine_eval.py  testing_arch_sumit.py   Untitled.ipynb\r\n",
      "merged_output.png     training_log_256px.txt  utils.py\r\n",
      "nohup.out\t      training_log2.txt       visual\r\n",
      "__pycache__\t      training_log3.txt\r\n",
      "README.md\t      training_log4.txt\r\n"
     ]
    }
   ],
   "source": [
    "!ls"
   ]
  },
  {
   "cell_type": "code",
   "execution_count": 4,
   "metadata": {},
   "outputs": [
    {
     "name": "stdout",
     "output_type": "stream",
     "text": [
      "Requirement already satisfied: matplotlib==3.3.3 in /opt/conda/lib/python3.7/site-packages (3.3.3)\n",
      "Requirement already satisfied: numpy>=1.15 in /opt/conda/lib/python3.7/site-packages (from matplotlib==3.3.3) (1.18.5)\n",
      "Requirement already satisfied: python-dateutil>=2.1 in /opt/conda/lib/python3.7/site-packages (from matplotlib==3.3.3) (2.8.1)\n",
      "Requirement already satisfied: cycler>=0.10 in /opt/conda/lib/python3.7/site-packages (from matplotlib==3.3.3) (0.10.0)\n",
      "Requirement already satisfied: pyparsing!=2.0.4,!=2.1.2,!=2.1.6,>=2.0.3 in /opt/conda/lib/python3.7/site-packages (from matplotlib==3.3.3) (2.4.7)\n",
      "Requirement already satisfied: pillow>=6.2.0 in /opt/conda/lib/python3.7/site-packages (from matplotlib==3.3.3) (8.0.1)\n",
      "Requirement already satisfied: kiwisolver>=1.0.1 in /opt/conda/lib/python3.7/site-packages (from matplotlib==3.3.3) (1.2.0)\n",
      "Requirement already satisfied: six>=1.5 in /opt/conda/lib/python3.7/site-packages (from python-dateutil>=2.1->matplotlib==3.3.3) (1.15.0)\n",
      "Requirement already satisfied: numpy==1.18.5 in /opt/conda/lib/python3.7/site-packages (1.18.5)\n",
      "Requirement already satisfied: Pillow==8.0.1 in /opt/conda/lib/python3.7/site-packages (8.0.1)\n",
      "Requirement already satisfied: tensorflow==2.3.1 in /opt/conda/lib/python3.7/site-packages (2.3.1)\n",
      "Requirement already satisfied: keras-preprocessing<1.2,>=1.1.1 in /opt/conda/lib/python3.7/site-packages (from tensorflow==2.3.1) (1.1.2)\n",
      "Requirement already satisfied: google-pasta>=0.1.8 in /opt/conda/lib/python3.7/site-packages (from tensorflow==2.3.1) (0.2.0)\n",
      "Requirement already satisfied: tensorboard<3,>=2.3.0 in /opt/conda/lib/python3.7/site-packages (from tensorflow==2.3.1) (2.11.2)\n",
      "Requirement already satisfied: wheel>=0.26 in /opt/conda/lib/python3.7/site-packages (from tensorflow==2.3.1) (0.35.1)\n",
      "Requirement already satisfied: wrapt>=1.11.1 in /opt/conda/lib/python3.7/site-packages (from tensorflow==2.3.1) (1.12.1)\n",
      "Requirement already satisfied: absl-py>=0.7.0 in /opt/conda/lib/python3.7/site-packages (from tensorflow==2.3.1) (0.10.0)\n",
      "Requirement already satisfied: termcolor>=1.1.0 in /opt/conda/lib/python3.7/site-packages (from tensorflow==2.3.1) (2.3.0)\n",
      "Requirement already satisfied: astunparse==1.6.3 in /opt/conda/lib/python3.7/site-packages (from tensorflow==2.3.1) (1.6.3)\n",
      "Requirement already satisfied: numpy<1.19.0,>=1.16.0 in /opt/conda/lib/python3.7/site-packages (from tensorflow==2.3.1) (1.18.5)\n",
      "Requirement already satisfied: opt-einsum>=2.3.2 in /opt/conda/lib/python3.7/site-packages (from tensorflow==2.3.1) (3.3.0)\n",
      "Requirement already satisfied: protobuf>=3.9.2 in /opt/conda/lib/python3.7/site-packages (from tensorflow==2.3.1) (3.13.0)\n",
      "Requirement already satisfied: tensorflow-estimator<2.4.0,>=2.3.0 in /opt/conda/lib/python3.7/site-packages (from tensorflow==2.3.1) (2.3.0)\n",
      "Requirement already satisfied: six>=1.12.0 in /opt/conda/lib/python3.7/site-packages (from tensorflow==2.3.1) (1.15.0)\n",
      "Requirement already satisfied: gast==0.3.3 in /opt/conda/lib/python3.7/site-packages (from tensorflow==2.3.1) (0.3.3)\n",
      "Requirement already satisfied: grpcio>=1.8.6 in /opt/conda/lib/python3.7/site-packages (from tensorflow==2.3.1) (1.31.0)\n",
      "Requirement already satisfied: h5py<2.11.0,>=2.10.0 in /opt/conda/lib/python3.7/site-packages (from tensorflow==2.3.1) (2.10.0)\n",
      "Requirement already satisfied: markdown>=2.6.8 in /opt/conda/lib/python3.7/site-packages (from tensorboard<3,>=2.3.0->tensorflow==2.3.1) (3.2.2)\n",
      "Requirement already satisfied: google-auth-oauthlib<0.5,>=0.4.1 in /opt/conda/lib/python3.7/site-packages (from tensorboard<3,>=2.3.0->tensorflow==2.3.1) (0.4.6)\n",
      "Requirement already satisfied: setuptools>=41.0.0 in /opt/conda/lib/python3.7/site-packages (from tensorboard<3,>=2.3.0->tensorflow==2.3.1) (49.6.0.post20200814)\n",
      "Requirement already satisfied: tensorboard-data-server<0.7.0,>=0.6.0 in /opt/conda/lib/python3.7/site-packages (from tensorboard<3,>=2.3.0->tensorflow==2.3.1) (0.6.1)\n",
      "Requirement already satisfied: werkzeug>=1.0.1 in /opt/conda/lib/python3.7/site-packages (from tensorboard<3,>=2.3.0->tensorflow==2.3.1) (1.0.1)\n",
      "Requirement already satisfied: google-auth<3,>=1.6.3 in /opt/conda/lib/python3.7/site-packages (from tensorboard<3,>=2.3.0->tensorflow==2.3.1) (2.38.0)\n",
      "Requirement already satisfied: requests<3,>=2.21.0 in /opt/conda/lib/python3.7/site-packages (from tensorboard<3,>=2.3.0->tensorflow==2.3.1) (2.24.0)\n",
      "Requirement already satisfied: tensorboard-plugin-wit>=1.6.0 in /opt/conda/lib/python3.7/site-packages (from tensorboard<3,>=2.3.0->tensorflow==2.3.1) (1.8.1)\n",
      "Requirement already satisfied: importlib-metadata; python_version < \"3.8\" in /opt/conda/lib/python3.7/site-packages (from markdown>=2.6.8->tensorboard<3,>=2.3.0->tensorflow==2.3.1) (1.7.0)\n",
      "Requirement already satisfied: requests-oauthlib>=0.7.0 in /opt/conda/lib/python3.7/site-packages (from google-auth-oauthlib<0.5,>=0.4.1->tensorboard<3,>=2.3.0->tensorflow==2.3.1) (2.0.0)\n",
      "Requirement already satisfied: cachetools<6.0,>=2.0.0 in /opt/conda/lib/python3.7/site-packages (from google-auth<3,>=1.6.3->tensorboard<3,>=2.3.0->tensorflow==2.3.1) (5.5.2)\n",
      "Requirement already satisfied: pyasn1-modules>=0.2.1 in /opt/conda/lib/python3.7/site-packages (from google-auth<3,>=1.6.3->tensorboard<3,>=2.3.0->tensorflow==2.3.1) (0.3.0)\n",
      "Requirement already satisfied: rsa<5,>=3.1.4 in /opt/conda/lib/python3.7/site-packages (from google-auth<3,>=1.6.3->tensorboard<3,>=2.3.0->tensorflow==2.3.1) (4.9)\n",
      "Requirement already satisfied: urllib3!=1.25.0,!=1.25.1,<1.26,>=1.21.1 in /opt/conda/lib/python3.7/site-packages (from requests<3,>=2.21.0->tensorboard<3,>=2.3.0->tensorflow==2.3.1) (1.25.10)\n",
      "Requirement already satisfied: chardet<4,>=3.0.2 in /opt/conda/lib/python3.7/site-packages (from requests<3,>=2.21.0->tensorboard<3,>=2.3.0->tensorflow==2.3.1) (3.0.4)\n",
      "Requirement already satisfied: certifi>=2017.4.17 in /opt/conda/lib/python3.7/site-packages (from requests<3,>=2.21.0->tensorboard<3,>=2.3.0->tensorflow==2.3.1) (2020.6.20)\n",
      "Requirement already satisfied: idna<3,>=2.5 in /opt/conda/lib/python3.7/site-packages (from requests<3,>=2.21.0->tensorboard<3,>=2.3.0->tensorflow==2.3.1) (2.10)\n",
      "Requirement already satisfied: zipp>=0.5 in /opt/conda/lib/python3.7/site-packages (from importlib-metadata; python_version < \"3.8\"->markdown>=2.6.8->tensorboard<3,>=2.3.0->tensorflow==2.3.1) (3.1.0)\n",
      "Requirement already satisfied: oauthlib>=3.0.0 in /opt/conda/lib/python3.7/site-packages (from requests-oauthlib>=0.7.0->google-auth-oauthlib<0.5,>=0.4.1->tensorboard<3,>=2.3.0->tensorflow==2.3.1) (3.1.0)\n",
      "Requirement already satisfied: pyasn1<0.6.0,>=0.4.6 in /opt/conda/lib/python3.7/site-packages (from pyasn1-modules>=0.2.1->google-auth<3,>=1.6.3->tensorboard<3,>=2.3.0->tensorflow==2.3.1) (0.4.8)\n"
     ]
    }
   ],
   "source": [
    "\n",
    "!pip install matplotlib==3.3.3\n",
    "!pip install numpy==1.18.5\n",
    "!pip install Pillow==8.0.1\n",
    "!pip install tensorflow==2.3.1\n"
   ]
  },
  {
   "cell_type": "code",
   "execution_count": 9,
   "metadata": {},
   "outputs": [
    {
     "name": "stdout",
     "output_type": "stream",
     "text": [
      "Requirement already satisfied: matplotlib-inline in /opt/conda/lib/python3.7/site-packages (0.1.6)\n",
      "Requirement already satisfied: traitlets in /opt/conda/lib/python3.7/site-packages (from matplotlib-inline) (4.3.3)\n",
      "Requirement already satisfied: six in /opt/conda/lib/python3.7/site-packages (from traitlets->matplotlib-inline) (1.15.0)\n",
      "Requirement already satisfied: decorator in /opt/conda/lib/python3.7/site-packages (from traitlets->matplotlib-inline) (4.4.2)\n",
      "Requirement already satisfied: ipython-genutils in /opt/conda/lib/python3.7/site-packages (from traitlets->matplotlib-inline) (0.2.0)\n",
      "Requirement already satisfied: prompt_toolkit in /opt/conda/lib/python3.7/site-packages (3.0.39)\n",
      "Requirement already satisfied: wcwidth in /opt/conda/lib/python3.7/site-packages (from prompt_toolkit) (0.2.5)\n"
     ]
    }
   ],
   "source": [
    "!pip install matplotlib-inline\n",
    "!pip install prompt_toolkit\n",
    "\n"
   ]
  },
  {
   "cell_type": "code",
   "execution_count": 4,
   "metadata": {},
   "outputs": [
    {
     "name": "stdout",
     "output_type": "stream",
     "text": [
      "/opt/conda/lib/python3.7/site-packages/tensorflow/python/framework/dtypes.py:516: FutureWarning: Passing (type, 1) or '1type' as a synonym of type is deprecated; in a future version of numpy, it will be understood as (type, (1,)) / '(1,)type'.\n",
      "  _np_qint8 = np.dtype([(\"qint8\", np.int8, 1)])\n",
      "/opt/conda/lib/python3.7/site-packages/tensorflow/python/framework/dtypes.py:517: FutureWarning: Passing (type, 1) or '1type' as a synonym of type is deprecated; in a future version of numpy, it will be understood as (type, (1,)) / '(1,)type'.\n",
      "  _np_quint8 = np.dtype([(\"quint8\", np.uint8, 1)])\n",
      "/opt/conda/lib/python3.7/site-packages/tensorflow/python/framework/dtypes.py:518: FutureWarning: Passing (type, 1) or '1type' as a synonym of type is deprecated; in a future version of numpy, it will be understood as (type, (1,)) / '(1,)type'.\n",
      "  _np_qint16 = np.dtype([(\"qint16\", np.int16, 1)])\n",
      "/opt/conda/lib/python3.7/site-packages/tensorflow/python/framework/dtypes.py:519: FutureWarning: Passing (type, 1) or '1type' as a synonym of type is deprecated; in a future version of numpy, it will be understood as (type, (1,)) / '(1,)type'.\n",
      "  _np_quint16 = np.dtype([(\"quint16\", np.uint16, 1)])\n",
      "/opt/conda/lib/python3.7/site-packages/tensorflow/python/framework/dtypes.py:520: FutureWarning: Passing (type, 1) or '1type' as a synonym of type is deprecated; in a future version of numpy, it will be understood as (type, (1,)) / '(1,)type'.\n",
      "  _np_qint32 = np.dtype([(\"qint32\", np.int32, 1)])\n",
      "/opt/conda/lib/python3.7/site-packages/tensorflow/python/framework/dtypes.py:525: FutureWarning: Passing (type, 1) or '1type' as a synonym of type is deprecated; in a future version of numpy, it will be understood as (type, (1,)) / '(1,)type'.\n",
      "  np_resource = np.dtype([(\"resource\", np.ubyte, 1)])\n",
      "/opt/conda/lib/python3.7/site-packages/tensorboard/compat/tensorflow_stub/dtypes.py:541: FutureWarning: Passing (type, 1) or '1type' as a synonym of type is deprecated; in a future version of numpy, it will be understood as (type, (1,)) / '(1,)type'.\n",
      "  _np_qint8 = np.dtype([(\"qint8\", np.int8, 1)])\n",
      "/opt/conda/lib/python3.7/site-packages/tensorboard/compat/tensorflow_stub/dtypes.py:542: FutureWarning: Passing (type, 1) or '1type' as a synonym of type is deprecated; in a future version of numpy, it will be understood as (type, (1,)) / '(1,)type'.\n",
      "  _np_quint8 = np.dtype([(\"quint8\", np.uint8, 1)])\n",
      "/opt/conda/lib/python3.7/site-packages/tensorboard/compat/tensorflow_stub/dtypes.py:543: FutureWarning: Passing (type, 1) or '1type' as a synonym of type is deprecated; in a future version of numpy, it will be understood as (type, (1,)) / '(1,)type'.\n",
      "  _np_qint16 = np.dtype([(\"qint16\", np.int16, 1)])\n",
      "/opt/conda/lib/python3.7/site-packages/tensorboard/compat/tensorflow_stub/dtypes.py:544: FutureWarning: Passing (type, 1) or '1type' as a synonym of type is deprecated; in a future version of numpy, it will be understood as (type, (1,)) / '(1,)type'.\n",
      "  _np_quint16 = np.dtype([(\"quint16\", np.uint16, 1)])\n",
      "/opt/conda/lib/python3.7/site-packages/tensorboard/compat/tensorflow_stub/dtypes.py:545: FutureWarning: Passing (type, 1) or '1type' as a synonym of type is deprecated; in a future version of numpy, it will be understood as (type, (1,)) / '(1,)type'.\n",
      "  _np_qint32 = np.dtype([(\"qint32\", np.int32, 1)])\n",
      "/opt/conda/lib/python3.7/site-packages/tensorboard/compat/tensorflow_stub/dtypes.py:550: FutureWarning: Passing (type, 1) or '1type' as a synonym of type is deprecated; in a future version of numpy, it will be understood as (type, (1,)) / '(1,)type'.\n",
      "  np_resource = np.dtype([(\"resource\", np.ubyte, 1)])\n",
      "Parsing /workspace/anime-StyleGAN/data/batch1_50k_512/batch_12/tfrecord-anime-stylegan/0.tfrecord\n",
      "Parsing /workspace/anime-StyleGAN/data/batch1_50k_512/batch_12/tfrecord-anime-stylegan/1.tfrecord\n",
      "Parsing /workspace/anime-StyleGAN/data/batch1_50k_512/batch_12/tfrecord-anime-stylegan/2.tfrecord\n",
      "Parsing /workspace/anime-StyleGAN/data/batch1_50k_512/batch_12/tfrecord-anime-stylegan/3.tfrecord\n",
      "Traceback (most recent call last):\n",
      "  File \"dataset.py\", line 226, in <module>\n",
      "    show_sample(args.data_dir)\n",
      "  File \"dataset.py\", line 178, in show_sample\n",
      "    images = (images.numpy() + 1) / 2\n",
      "AttributeError: 'Tensor' object has no attribute 'numpy'\n"
     ]
    }
   ],
   "source": [
    "!python dataset.py --data_dir=/workspace/anime-StyleGAN/data/batch1_50k_512/batch_12 --max_images=50000"
   ]
  },
  {
   "cell_type": "code",
   "execution_count": null,
   "metadata": {},
   "outputs": [],
   "source": [
    "# !python train.py --data_dir=/workspace/anime-StyleGAN/data/anime/ --soft_gpu -b 32 --latent 128 --epoch 80 -lr 0.0005 -b1 0. -b2 0.99 -w 2 | tee training_log.txt\n",
    "\n",
    "\n",
    "!python train.py --data_dir=/workspace/anime-StyleGAN/data/batch1_50k_512/batch_12/ --soft_gpu -b 32 --latent 256 --epoch 250 -lr 0.0001 -b1 0.0 -b2 0.99 -w 2 --max_images=50000 > training_log_256px.txt 2>&1"
   ]
  },
  {
   "cell_type": "code",
   "execution_count": null,
   "metadata": {},
   "outputs": [],
   "source": [
    "# !pip install torch torchvision torchaudio\n",
    "# import torch\n",
    "# print(torch.cuda.is_available())  # Should return True\n",
    "# print(torch.cuda.current_device())  # Should return the GPU ID (e.g., 0)\n",
    "# print(torch.cuda.get_device_name(0))  # Should return the GPU name\n"
   ]
  },
  {
   "cell_type": "code",
   "execution_count": 4,
   "metadata": {},
   "outputs": [
    {
     "name": "stdout",
     "output_type": "stream",
     "text": [
      "2025-02-22 09:48:35.530579: W tensorflow/stream_executor/platform/default/dso_loader.cc:59] Could not load dynamic library 'libcudart.so.10.1'; dlerror: libcudart.so.10.1: cannot open shared object file: No such file or directory; LD_LIBRARY_PATH: /lib/x86_64-linux-gnu:/usr/lib/x86_64-linux-gnu:/opt/conda/lib\n",
      "2025-02-22 09:48:35.530645: I tensorflow/stream_executor/cuda/cudart_stub.cc:29] Ignore above cudart dlerror if you do not have a GPU set up on your machine.\n",
      "Namespace(image_size=64, latent_dim=128, model_path='visual/2025-01-23_14-02-25/model/cp-0107.ckpt', n_seed=1, n_z1=3, output_path='demo/stylemix.png', z_seed=2)\n",
      "2025-02-22 09:48:36.948881: I tensorflow/stream_executor/platform/default/dso_loader.cc:48] Successfully opened dynamic library libcuda.so.1\n",
      "2025-02-22 09:48:36.955071: E tensorflow/stream_executor/cuda/cuda_driver.cc:314] failed call to cuInit: CUDA_ERROR_NO_DEVICE: no CUDA-capable device is detected\n",
      "2025-02-22 09:48:36.955116: I tensorflow/stream_executor/cuda/cuda_diagnostics.cc:163] no NVIDIA GPU device is present: /dev/nvidia0 does not exist\n",
      "2025-02-22 09:48:36.955429: I tensorflow/core/platform/cpu_feature_guard.cc:142] This TensorFlow binary is optimized with oneAPI Deep Neural Network Library (oneDNN)to use the following CPU instructions in performance-critical operations:  AVX2 AVX512F FMA\n",
      "To enable them in other operations, rebuild TensorFlow with the appropriate compiler flags.\n",
      "2025-02-22 09:48:36.965681: I tensorflow/core/platform/profile_utils/cpu_utils.cc:104] CPU Frequency: 2099995000 Hz\n",
      "2025-02-22 09:48:36.968330: I tensorflow/compiler/xla/service/service.cc:168] XLA service 0x5557412d54a0 initialized for platform Host (this does not guarantee that XLA will be used). Devices:\n",
      "2025-02-22 09:48:36.968364: I tensorflow/compiler/xla/service/service.cc:176]   StreamExecutor device (0): Host, Default Version\n",
      "Model: \"generator\"\n",
      "__________________________________________________________________________________________________\n",
      "Layer (type)                    Output Shape         Param #     Connected to                     \n",
      "==================================================================================================\n",
      "ones (InputLayer)               [(None, 1)]          0                                            \n",
      "__________________________________________________________________________________________________\n",
      "noise (InputLayer)              [(None, 64, 64)]     0                                            \n",
      "__________________________________________________________________________________________________\n",
      "const (Sequential)              (None, 4, 4, 200)    3200        ones[0][0]                       \n",
      "__________________________________________________________________________________________________\n",
      "tf_op_layer_ExpandDims (TensorF [(None, 64, 64, 1)]  0           noise[0][0]                      \n",
      "__________________________________________________________________________________________________\n",
      "z (InputLayer)                  [(None, 5, 128)]     0                                            \n",
      "__________________________________________________________________________________________________\n",
      "add_noise (AddNoise)            (None, 4, 4, 200)    200         const[0][0]                      \n",
      "                                                                 tf_op_layer_ExpandDims[0][0]     \n",
      "__________________________________________________________________________________________________\n",
      "map (Map)                       (None, 5, 128)       82560       z[0][0]                          \n",
      "__________________________________________________________________________________________________\n",
      "ada_norm (AdaNorm)              (None, 4, 4, 200)    0           add_noise[0][0]                  \n",
      "__________________________________________________________________________________________________\n",
      "tf_op_layer_strided_slice (Tens [(None, 128)]        0           map[0][0]                        \n",
      "__________________________________________________________________________________________________\n",
      "style (Style)                   (None, 4, 4, 200)    412000      ada_norm[0][0]                   \n",
      "                                                                 tf_op_layer_strided_slice[0][0]  \n",
      "                                                                 tf_op_layer_ExpandDims[0][0]     \n",
      "__________________________________________________________________________________________________\n",
      "tf_op_layer_strided_slice_1 (Te [(None, 128)]        0           map[0][0]                        \n",
      "__________________________________________________________________________________________________\n",
      "style_1 (Style)                 (None, 8, 8, 200)    412000      style[0][0]                      \n",
      "                                                                 tf_op_layer_strided_slice_1[0][0]\n",
      "                                                                 tf_op_layer_ExpandDims[0][0]     \n",
      "__________________________________________________________________________________________________\n",
      "tf_op_layer_strided_slice_2 (Te [(None, 128)]        0           map[0][0]                        \n",
      "__________________________________________________________________________________________________\n",
      "style_2 (Style)                 (None, 16, 16, 200)  412000      style_1[0][0]                    \n",
      "                                                                 tf_op_layer_strided_slice_2[0][0]\n",
      "                                                                 tf_op_layer_ExpandDims[0][0]     \n",
      "__________________________________________________________________________________________________\n",
      "tf_op_layer_strided_slice_3 (Te [(None, 128)]        0           map[0][0]                        \n",
      "__________________________________________________________________________________________________\n",
      "style_3 (Style)                 (None, 32, 32, 200)  412000      style_2[0][0]                    \n",
      "                                                                 tf_op_layer_strided_slice_3[0][0]\n",
      "                                                                 tf_op_layer_ExpandDims[0][0]     \n",
      "__________________________________________________________________________________________________\n",
      "tf_op_layer_strided_slice_4 (Te [(None, 128)]        0           map[0][0]                        \n",
      "__________________________________________________________________________________________________\n",
      "style_4 (Style)                 (None, 64, 64, 200)  412000      style_3[0][0]                    \n",
      "                                                                 tf_op_layer_strided_slice_4[0][0]\n",
      "                                                                 tf_op_layer_ExpandDims[0][0]     \n",
      "__________________________________________________________________________________________________\n",
      "conv2d (Conv2D)                 (None, 64, 64, 3)    15003       style_4[0][0]                    \n",
      "==================================================================================================\n",
      "Total params: 2,160,963\n",
      "Trainable params: 2,160,963\n",
      "Non-trainable params: 0\n",
      "__________________________________________________________________________________________________\n",
      "Model: \"d\"\n",
      "_________________________________________________________________\n",
      "Layer (type)                 Output Shape              Param #   \n",
      "=================================================================\n",
      "conv2d_1 (Conv2D)            (None, 32, 32, 32)        1568      \n",
      "_________________________________________________________________\n",
      "leaky_re_lu (LeakyReLU)      (None, 32, 32, 32)        0         \n",
      "_________________________________________________________________\n",
      "conv2d_2 (Conv2D)            (None, 16, 16, 64)        32832     \n",
      "_________________________________________________________________\n",
      "instance_normalization (Inst (None, 16, 16, 64)        128       \n",
      "_________________________________________________________________\n",
      "leaky_re_lu_1 (LeakyReLU)    (None, 16, 16, 64)        0         \n",
      "_________________________________________________________________\n",
      "conv2d_3 (Conv2D)            (None, 8, 8, 128)         131200    \n",
      "_________________________________________________________________\n",
      "instance_normalization_1 (In (None, 8, 8, 128)         256       \n",
      "_________________________________________________________________\n",
      "leaky_re_lu_2 (LeakyReLU)    (None, 8, 8, 128)         0         \n",
      "_________________________________________________________________\n",
      "conv2d_4 (Conv2D)            (None, 4, 4, 256)         524544    \n",
      "_________________________________________________________________\n",
      "instance_normalization_2 (In (None, 4, 4, 256)         512       \n",
      "_________________________________________________________________\n",
      "leaky_re_lu_3 (LeakyReLU)    (None, 4, 4, 256)         0         \n",
      "_________________________________________________________________\n",
      "flatten (Flatten)            (None, 4096)              0         \n",
      "_________________________________________________________________\n",
      "dense (Dense)                (None, 256)               1048832   \n",
      "_________________________________________________________________\n",
      "dense_1 (Dense)              (None, 1)                 257       \n",
      "=================================================================\n",
      "Total params: 1,740,129\n",
      "Trainable params: 1,740,129\n",
      "Non-trainable params: 0\n",
      "_________________________________________________________________\n"
     ]
    },
    {
     "name": "stdout",
     "output_type": "stream",
     "text": [
      "WARNING:tensorflow:Unresolved object in checkpoint: (root).opt.iter\r\n",
      "WARNING:tensorflow:Unresolved object in checkpoint: (root).opt.beta_1\r\n",
      "WARNING:tensorflow:Unresolved object in checkpoint: (root).opt.beta_2\r\n",
      "WARNING:tensorflow:Unresolved object in checkpoint: (root).opt.decay\r\n",
      "WARNING:tensorflow:Unresolved object in checkpoint: (root).opt.learning_rate\r\n",
      "WARNING:tensorflow:A checkpoint was restored (e.g. tf.train.Checkpoint.restore or tf.keras.Model.load_weights) but not all checkpointed values were used. See above for specific issues. Use expect_partial() on the load status object, e.g. tf.train.Checkpoint.restore(...).expect_partial(), to silence these warnings, or use assert_consumed() to make the check explicit. See https://www.tensorflow.org/guide/checkpoint#loading_mechanics for details.\r\n"
     ]
    }
   ],
   "source": [
    "# !python restore.py --model_path=\"workspace/anime-StyleGAN/visual/2025-01-18_10-51-58/model/cp-0079.ckpt\" --output_path=\"workspace/anime-StyleGAN/demo/stylemix1.png\" -n 3 --z_seed 2 --n_seed 1 --latent 128 \n",
    "!python restore.py --model_path visual/2025-01-23_14-02-25/model/cp-0107.ckpt -o demo/stylemix.png -n 3 --z_seed 2 --n_seed 1 --latent 128"
   ]
  },
  {
   "cell_type": "code",
   "execution_count": 158,
   "metadata": {},
   "outputs": [
    {
     "name": "stdout",
     "output_type": "stream",
     "text": [
      "2025-02-27 15:22:36.808795: W tensorflow/stream_executor/platform/default/dso_loader.cc:59] Could not load dynamic library 'libcudart.so.10.1'; dlerror: libcudart.so.10.1: cannot open shared object file: No such file or directory; LD_LIBRARY_PATH: /lib/x86_64-linux-gnu:/usr/lib/x86_64-linux-gnu:/opt/conda/lib\n",
      "2025-02-27 15:22:36.808851: I tensorflow/stream_executor/cuda/cudart_stub.cc:29] Ignore above cudart dlerror if you do not have a GPU set up on your machine.\n",
      "2025-02-27 15:22:38.596870: I tensorflow/stream_executor/platform/default/dso_loader.cc:48] Successfully opened dynamic library libcuda.so.1\n",
      "2025-02-27 15:22:40.776832: I tensorflow/stream_executor/cuda/cuda_gpu_executor.cc:982] successful NUMA node read from SysFS had negative value (-1), but there must be at least one NUMA node, so returning NUMA node zero\n",
      "2025-02-27 15:22:40.778149: I tensorflow/core/common_runtime/gpu/gpu_device.cc:1716] Found device 0 with properties: \n",
      "pciBusID: 0000:06:11.0 name: Quadro RTX 6000 computeCapability: 7.5\n",
      "coreClock: 1.77GHz coreCount: 72 deviceMemorySize: 23.65GiB deviceMemoryBandwidth: 625.94GiB/s\n",
      "2025-02-27 15:22:40.778321: W tensorflow/stream_executor/platform/default/dso_loader.cc:59] Could not load dynamic library 'libcudart.so.10.1'; dlerror: libcudart.so.10.1: cannot open shared object file: No such file or directory; LD_LIBRARY_PATH: /lib/x86_64-linux-gnu:/usr/lib/x86_64-linux-gnu:/opt/conda/lib\n",
      "2025-02-27 15:22:40.778412: W tensorflow/stream_executor/platform/default/dso_loader.cc:59] Could not load dynamic library 'libcublas.so.10'; dlerror: libcublas.so.10: cannot open shared object file: No such file or directory; LD_LIBRARY_PATH: /lib/x86_64-linux-gnu:/usr/lib/x86_64-linux-gnu:/opt/conda/lib\n",
      "2025-02-27 15:22:40.783852: I tensorflow/stream_executor/platform/default/dso_loader.cc:48] Successfully opened dynamic library libcufft.so.10\n",
      "2025-02-27 15:22:40.784407: I tensorflow/stream_executor/platform/default/dso_loader.cc:48] Successfully opened dynamic library libcurand.so.10\n",
      "2025-02-27 15:22:40.784519: W tensorflow/stream_executor/platform/default/dso_loader.cc:59] Could not load dynamic library 'libcusolver.so.10'; dlerror: libcusolver.so.10: cannot open shared object file: No such file or directory; LD_LIBRARY_PATH: /lib/x86_64-linux-gnu:/usr/lib/x86_64-linux-gnu:/opt/conda/lib\n",
      "2025-02-27 15:22:40.784609: W tensorflow/stream_executor/platform/default/dso_loader.cc:59] Could not load dynamic library 'libcusparse.so.10'; dlerror: libcusparse.so.10: cannot open shared object file: No such file or directory; LD_LIBRARY_PATH: /lib/x86_64-linux-gnu:/usr/lib/x86_64-linux-gnu:/opt/conda/lib\n",
      "2025-02-27 15:22:40.784712: W tensorflow/stream_executor/platform/default/dso_loader.cc:59] Could not load dynamic library 'libcudnn.so.7'; dlerror: libcudnn.so.7: cannot open shared object file: No such file or directory; LD_LIBRARY_PATH: /lib/x86_64-linux-gnu:/usr/lib/x86_64-linux-gnu:/opt/conda/lib\n",
      "2025-02-27 15:22:40.784734: W tensorflow/core/common_runtime/gpu/gpu_device.cc:1753] Cannot dlopen some GPU libraries. Please make sure the missing libraries mentioned above are installed properly if you would like to use GPU. Follow the guide at https://www.tensorflow.org/install/gpu for how to download and setup the required libraries for your platform.\n",
      "Skipping registering GPU devices...\n",
      "2025-02-27 15:22:40.785168: I tensorflow/core/platform/cpu_feature_guard.cc:142] This TensorFlow binary is optimized with oneAPI Deep Neural Network Library (oneDNN)to use the following CPU instructions in performance-critical operations:  AVX2 AVX512F FMA\n",
      "To enable them in other operations, rebuild TensorFlow with the appropriate compiler flags.\n",
      "2025-02-27 15:22:40.796219: I tensorflow/core/platform/profile_utils/cpu_utils.cc:104] CPU Frequency: 2099995000 Hz\n",
      "2025-02-27 15:22:40.798886: I tensorflow/compiler/xla/service/service.cc:168] XLA service 0x56484fba11d0 initialized for platform Host (this does not guarantee that XLA will be used). Devices:\n",
      "2025-02-27 15:22:40.798927: I tensorflow/compiler/xla/service/service.cc:176]   StreamExecutor device (0): Host, Default Version\n",
      "2025-02-27 15:22:40.800549: I tensorflow/core/common_runtime/gpu/gpu_device.cc:1257] Device interconnect StreamExecutor with strength 1 edge matrix:\n",
      "2025-02-27 15:22:40.800581: I tensorflow/core/common_runtime/gpu/gpu_device.cc:1263]      \n",
      "Model: \"generator\"\n",
      "__________________________________________________________________________________________________\n",
      "Layer (type)                    Output Shape         Param #     Connected to                     \n",
      "==================================================================================================\n",
      "ones (InputLayer)               [(None, 1)]          0                                            \n",
      "__________________________________________________________________________________________________\n",
      "noise (InputLayer)              [(None, 64, 64)]     0                                            \n",
      "__________________________________________________________________________________________________\n",
      "const (Sequential)              (None, 4, 4, 200)    3200        ones[0][0]                       \n",
      "__________________________________________________________________________________________________\n",
      "tf_op_layer_ExpandDims (TensorF [(None, 64, 64, 1)]  0           noise[0][0]                      \n",
      "__________________________________________________________________________________________________\n",
      "z (InputLayer)                  [(None, 5, 128)]     0                                            \n",
      "__________________________________________________________________________________________________\n",
      "add_noise (AddNoise)            (None, 4, 4, 200)    200         const[0][0]                      \n",
      "                                                                 tf_op_layer_ExpandDims[0][0]     \n",
      "__________________________________________________________________________________________________\n",
      "map (Map)                       (None, 5, 128)       82560       z[0][0]                          \n",
      "__________________________________________________________________________________________________\n",
      "ada_norm (AdaNorm)              (None, 4, 4, 200)    0           add_noise[0][0]                  \n",
      "__________________________________________________________________________________________________\n",
      "tf_op_layer_strided_slice (Tens [(None, 128)]        0           map[0][0]                        \n",
      "__________________________________________________________________________________________________\n",
      "style (Style)                   (None, 4, 4, 200)    412000      ada_norm[0][0]                   \n",
      "                                                                 tf_op_layer_strided_slice[0][0]  \n",
      "                                                                 tf_op_layer_ExpandDims[0][0]     \n",
      "__________________________________________________________________________________________________\n",
      "tf_op_layer_strided_slice_1 (Te [(None, 128)]        0           map[0][0]                        \n",
      "__________________________________________________________________________________________________\n",
      "style_1 (Style)                 (None, 8, 8, 200)    412000      style[0][0]                      \n",
      "                                                                 tf_op_layer_strided_slice_1[0][0]\n",
      "                                                                 tf_op_layer_ExpandDims[0][0]     \n",
      "__________________________________________________________________________________________________\n",
      "tf_op_layer_strided_slice_2 (Te [(None, 128)]        0           map[0][0]                        \n",
      "__________________________________________________________________________________________________\n",
      "style_2 (Style)                 (None, 16, 16, 200)  412000      style_1[0][0]                    \n",
      "                                                                 tf_op_layer_strided_slice_2[0][0]\n",
      "                                                                 tf_op_layer_ExpandDims[0][0]     \n",
      "__________________________________________________________________________________________________\n",
      "tf_op_layer_strided_slice_3 (Te [(None, 128)]        0           map[0][0]                        \n",
      "__________________________________________________________________________________________________\n",
      "style_3 (Style)                 (None, 32, 32, 200)  412000      style_2[0][0]                    \n",
      "                                                                 tf_op_layer_strided_slice_3[0][0]\n",
      "                                                                 tf_op_layer_ExpandDims[0][0]     \n",
      "__________________________________________________________________________________________________\n",
      "tf_op_layer_strided_slice_4 (Te [(None, 128)]        0           map[0][0]                        \n",
      "__________________________________________________________________________________________________\n",
      "style_4 (Style)                 (None, 64, 64, 200)  412000      style_3[0][0]                    \n",
      "                                                                 tf_op_layer_strided_slice_4[0][0]\n",
      "                                                                 tf_op_layer_ExpandDims[0][0]     \n",
      "__________________________________________________________________________________________________\n",
      "conv2d (Conv2D)                 (None, 64, 64, 3)    15003       style_4[0][0]                    \n",
      "==================================================================================================\n",
      "Total params: 2,160,963\n",
      "Trainable params: 2,160,963\n",
      "Non-trainable params: 0\n",
      "__________________________________________________________________________________________________\n"
     ]
    },
    {
     "name": "stdout",
     "output_type": "stream",
     "text": [
      "Model: \"d\"\n",
      "_________________________________________________________________\n",
      "Layer (type)                 Output Shape              Param #   \n",
      "=================================================================\n",
      "conv2d_1 (Conv2D)            (None, 32, 32, 32)        1568      \n",
      "_________________________________________________________________\n",
      "leaky_re_lu (LeakyReLU)      (None, 32, 32, 32)        0         \n",
      "_________________________________________________________________\n",
      "conv2d_2 (Conv2D)            (None, 16, 16, 64)        32832     \n",
      "_________________________________________________________________\n",
      "instance_normalization (Inst (None, 16, 16, 64)        128       \n",
      "_________________________________________________________________\n",
      "leaky_re_lu_1 (LeakyReLU)    (None, 16, 16, 64)        0         \n",
      "_________________________________________________________________\n",
      "conv2d_3 (Conv2D)            (None, 8, 8, 128)         131200    \n",
      "_________________________________________________________________\n",
      "instance_normalization_1 (In (None, 8, 8, 128)         256       \n",
      "_________________________________________________________________\n",
      "leaky_re_lu_2 (LeakyReLU)    (None, 8, 8, 128)         0         \n",
      "_________________________________________________________________\n",
      "conv2d_4 (Conv2D)            (None, 4, 4, 256)         524544    \n",
      "_________________________________________________________________\n",
      "instance_normalization_2 (In (None, 4, 4, 256)         512       \n",
      "_________________________________________________________________\n",
      "leaky_re_lu_3 (LeakyReLU)    (None, 4, 4, 256)         0         \n",
      "_________________________________________________________________\n",
      "flatten (Flatten)            (None, 4096)              0         \n",
      "_________________________________________________________________\n",
      "dense (Dense)                (None, 256)               1048832   \n",
      "_________________________________________________________________\n",
      "dense_1 (Dense)              (None, 1)                 257       \n",
      "=================================================================\n",
      "Total params: 1,740,129\n",
      "Trainable params: 1,740,129\n",
      "Non-trainable params: 0\n",
      "_________________________________________________________________\n",
      "Merged image saved at: demo/merged_output_recon.png\n",
      "WARNING:tensorflow:Unresolved object in checkpoint: (root).opt.iter\n",
      "WARNING:tensorflow:Unresolved object in checkpoint: (root).opt.beta_1\n",
      "WARNING:tensorflow:Unresolved object in checkpoint: (root).opt.beta_2\n",
      "WARNING:tensorflow:Unresolved object in checkpoint: (root).opt.decay\n",
      "WARNING:tensorflow:Unresolved object in checkpoint: (root).opt.learning_rate\n",
      "WARNING:tensorflow:A checkpoint was restored (e.g. tf.train.Checkpoint.restore or tf.keras.Model.load_weights) but not all checkpointed values were used. See above for specific issues. Use expect_partial() on the load status object, e.g. tf.train.Checkpoint.restore(...).expect_partial(), to silence these warnings, or use assert_consumed() to make the check explicit. See https://www.tensorflow.org/guide/checkpoint#loading_mechanics for details.\n"
     ]
    }
   ],
   "source": [
    "#for restoration of saved GAN weights.\n",
    "\n",
    "# !python restore3_helper.py --model_path visual/2025-01-23_14-02-25/model/cp-0107.ckpt --image1 imgfolder/img1.jpg --image2 imgfolder/img2.jpg --output_image demo/restoration_for_cosine_eval/merged_output.png \n",
    "#for restoration of saved GAN weights.\n",
    "\n",
    "!python restore4.py --model_path visual/2025-01-23_14-02-25/model/cp-0107.ckpt --image1 imgfolder/img1.jpg --image2 imgfolder/img2.jpg --output_image demo/merged_output_recon.png \n",
    "\n",
    "\"visual/2025-01-18_10-51-58_80ep_on_100img_co/model/cp-0079.ckpt\" #first try\n",
    "\"\""
   ]
  },
  {
   "cell_type": "code",
   "execution_count": 146,
   "metadata": {},
   "outputs": [
    {
     "name": "stdout",
     "output_type": "stream",
     "text": [
      "/opt/conda/lib/python3.7/site-packages/torchvision/models/_utils.py:209: UserWarning: The parameter 'pretrained' is deprecated since 0.13 and may be removed in the future, please use 'weights' instead.\n",
      "  f\"The parameter '{pretrained_param}' is deprecated since 0.13 and may be removed in the future, \"\n",
      "/opt/conda/lib/python3.7/site-packages/torchvision/models/_utils.py:223: UserWarning: Arguments other than a weight enum or `None` for 'weights' are deprecated since 0.13 and may be removed in the future. The current behavior is equivalent to passing `weights=Inception_V3_Weights.IMAGENET1K_V1`. You can also use `weights=Inception_V3_Weights.DEFAULT` to get the most up-to-date weights.\n",
      "  warnings.warn(msg)\n",
      "Extracting Features: 100%|████████████████████| 700/700 [00:25<00:00, 27.65it/s]\n",
      "Extracting Features: 100%|██████████████████████| 93/93 [00:01<00:00, 48.68it/s]\n",
      "FID Score: 140.33\n"
     ]
    }
   ],
   "source": [
    "#for evaluation metrics\n",
    "\n",
    "!python evaluation.py --real data/image_batches/batch_7 --generated demo/restoration_results"
   ]
  },
  {
   "cell_type": "code",
   "execution_count": 155,
   "metadata": {},
   "outputs": [
    {
     "name": "stdout",
     "output_type": "stream",
     "text": [
      "Setting up [LPIPS] perceptual loss: trunk [vgg], v[0.1], spatial [off]\n",
      "/opt/conda/lib/python3.7/site-packages/torchvision/models/_utils.py:209: UserWarning: The parameter 'pretrained' is deprecated since 0.13 and may be removed in the future, please use 'weights' instead.\n",
      "  f\"The parameter '{pretrained_param}' is deprecated since 0.13 and may be removed in the future, \"\n",
      "/opt/conda/lib/python3.7/site-packages/torchvision/models/_utils.py:223: UserWarning: Arguments other than a weight enum or `None` for 'weights' are deprecated since 0.13 and may be removed in the future. The current behavior is equivalent to passing `weights=VGG16_Weights.IMAGENET1K_V1`. You can also use `weights=VGG16_Weights.DEFAULT` to get the most up-to-date weights.\n",
      "  warnings.warn(msg)\n",
      "Loading model from: /opt/conda/lib/python3.7/site-packages/lpips/weights/v0.1/vgg.pth\n",
      "/opt/conda/lib/python3.7/site-packages/torchvision/models/_utils.py:223: UserWarning: Arguments other than a weight enum or `None` for 'weights' are deprecated since 0.13 and may be removed in the future. The current behavior is equivalent to passing `weights=ResNet50_Weights.IMAGENET1K_V1`. You can also use `weights=ResNet50_Weights.DEFAULT` to get the most up-to-date weights.\n",
      "  warnings.warn(msg)\n",
      "LPIPS Similarity (Merged vs A): 0.6921\n",
      "LPIPS Similarity (Merged vs B): 0.6278\n",
      "Cosine Similarity (Merged vs A): 0.7979\n",
      "Cosine Similarity (Merged vs B): 0.7514\n"
     ]
    }
   ],
   "source": [
    "#cosine similarity\n",
    "\n",
    "!python lpips_cosine_eval.py demo/restoration_for_cosine_eval/merged_output.png imgfolder/img1.jpg imgfolder/img2.jpg\n",
    "\n"
   ]
  },
  {
   "cell_type": "code",
   "execution_count": null,
   "metadata": {},
   "outputs": [],
   "source": []
  }
 ],
 "metadata": {
  "kernelspec": {
   "display_name": "myenv3",
   "language": "python",
   "name": "myenv3"
  },
  "language_info": {
   "codemirror_mode": {
    "name": "ipython",
    "version": 3
   },
   "file_extension": ".py",
   "mimetype": "text/x-python",
   "name": "python",
   "nbconvert_exporter": "python",
   "pygments_lexer": "ipython3",
   "version": "3.7.7"
  }
 },
 "nbformat": 4,
 "nbformat_minor": 4
}
